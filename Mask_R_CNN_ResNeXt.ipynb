{
  "nbformat": 4,
  "nbformat_minor": 0,
  "metadata": {
    "colab": {
      "provenance": [],
      "machine_shape": "hm",
      "gpuType": "T4",
      "include_colab_link": true
    },
    "kernelspec": {
      "name": "python3",
      "display_name": "Python 3"
    },
    "language_info": {
      "name": "python"
    },
    "accelerator": "GPU"
  },
  "cells": [
    {
      "cell_type": "markdown",
      "metadata": {
        "id": "view-in-github",
        "colab_type": "text"
      },
      "source": [
        "<a href=\"https://colab.research.google.com/github/byongkyu/Detecting-Concrete-Lining-in-Tunnel-GPR-Images/blob/main/Mask_R_CNN_ResNeXt.ipynb\" target=\"_parent\"><img src=\"https://colab.research.google.com/assets/colab-badge.svg\" alt=\"Open In Colab\"/></a>"
      ]
    },
    {
      "cell_type": "code",
      "execution_count": null,
      "metadata": {
        "colab": {
          "base_uri": "https://localhost:8080/"
        },
        "id": "boMBHxGpTxHa",
        "outputId": "a5f1681d-81a0-4b16-98c3-cc992a634fcd"
      },
      "outputs": [
        {
          "output_type": "stream",
          "name": "stdout",
          "text": [
            "Mounted at /content/drive\n"
          ]
        }
      ],
      "source": [
        "from google.colab import drive\n",
        "drive.mount('/content/drive')"
      ]
    },
    {
      "cell_type": "code",
      "source": [
        "!python -m pip install roboflow\n",
        "!python -m pip install 'git+https://github.com/facebookresearch/detectron2.git'"
      ],
      "metadata": {
        "colab": {
          "base_uri": "https://localhost:8080/"
        },
        "id": "jpd36DUvUH5M",
        "outputId": "3a346111-e563-4a3c-8b51-f02ff9353189"
      },
      "execution_count": null,
      "outputs": [
        {
          "output_type": "stream",
          "name": "stdout",
          "text": [
            "Requirement already satisfied: roboflow in /usr/local/lib/python3.11/dist-packages (1.1.63)\n",
            "Requirement already satisfied: certifi in /usr/local/lib/python3.11/dist-packages (from roboflow) (2025.4.26)\n",
            "Requirement already satisfied: idna==3.7 in /usr/local/lib/python3.11/dist-packages (from roboflow) (3.7)\n",
            "Requirement already satisfied: cycler in /usr/local/lib/python3.11/dist-packages (from roboflow) (0.12.1)\n",
            "Requirement already satisfied: kiwisolver>=1.3.1 in /usr/local/lib/python3.11/dist-packages (from roboflow) (1.4.8)\n",
            "Requirement already satisfied: matplotlib in /usr/local/lib/python3.11/dist-packages (from roboflow) (3.10.0)\n",
            "Requirement already satisfied: numpy>=1.18.5 in /usr/local/lib/python3.11/dist-packages (from roboflow) (2.0.2)\n",
            "Requirement already satisfied: opencv-python-headless==4.10.0.84 in /usr/local/lib/python3.11/dist-packages (from roboflow) (4.10.0.84)\n",
            "Requirement already satisfied: Pillow>=7.1.2 in /usr/local/lib/python3.11/dist-packages (from roboflow) (11.2.1)\n",
            "Requirement already satisfied: pillow-heif>=0.18.0 in /usr/local/lib/python3.11/dist-packages (from roboflow) (0.22.0)\n",
            "Requirement already satisfied: python-dateutil in /usr/local/lib/python3.11/dist-packages (from roboflow) (2.9.0.post0)\n",
            "Requirement already satisfied: python-dotenv in /usr/local/lib/python3.11/dist-packages (from roboflow) (1.1.0)\n",
            "Requirement already satisfied: requests in /usr/local/lib/python3.11/dist-packages (from roboflow) (2.32.3)\n",
            "Requirement already satisfied: six in /usr/local/lib/python3.11/dist-packages (from roboflow) (1.17.0)\n",
            "Requirement already satisfied: urllib3>=1.26.6 in /usr/local/lib/python3.11/dist-packages (from roboflow) (2.4.0)\n",
            "Requirement already satisfied: tqdm>=4.41.0 in /usr/local/lib/python3.11/dist-packages (from roboflow) (4.67.1)\n",
            "Requirement already satisfied: PyYAML>=5.3.1 in /usr/local/lib/python3.11/dist-packages (from roboflow) (6.0.2)\n",
            "Requirement already satisfied: requests-toolbelt in /usr/local/lib/python3.11/dist-packages (from roboflow) (1.0.0)\n",
            "Requirement already satisfied: filetype in /usr/local/lib/python3.11/dist-packages (from roboflow) (1.2.0)\n",
            "Requirement already satisfied: contourpy>=1.0.1 in /usr/local/lib/python3.11/dist-packages (from matplotlib->roboflow) (1.3.2)\n",
            "Requirement already satisfied: fonttools>=4.22.0 in /usr/local/lib/python3.11/dist-packages (from matplotlib->roboflow) (4.57.0)\n",
            "Requirement already satisfied: packaging>=20.0 in /usr/local/lib/python3.11/dist-packages (from matplotlib->roboflow) (24.2)\n",
            "Requirement already satisfied: pyparsing>=2.3.1 in /usr/local/lib/python3.11/dist-packages (from matplotlib->roboflow) (3.2.3)\n",
            "Requirement already satisfied: charset-normalizer<4,>=2 in /usr/local/lib/python3.11/dist-packages (from requests->roboflow) (3.4.1)\n",
            "Collecting git+https://github.com/facebookresearch/detectron2.git\n",
            "  Cloning https://github.com/facebookresearch/detectron2.git to /tmp/pip-req-build-y241038s\n",
            "  Running command git clone --filter=blob:none --quiet https://github.com/facebookresearch/detectron2.git /tmp/pip-req-build-y241038s\n",
            "  Resolved https://github.com/facebookresearch/detectron2.git to commit 536dc9d527074e3b15df5f6677ffe1f4e104a4ab\n",
            "  Preparing metadata (setup.py) ... \u001b[?25l\u001b[?25hdone\n",
            "Requirement already satisfied: Pillow>=7.1 in /usr/local/lib/python3.11/dist-packages (from detectron2==0.6) (11.2.1)\n",
            "Requirement already satisfied: matplotlib in /usr/local/lib/python3.11/dist-packages (from detectron2==0.6) (3.10.0)\n",
            "Requirement already satisfied: pycocotools>=2.0.2 in /usr/local/lib/python3.11/dist-packages (from detectron2==0.6) (2.0.8)\n",
            "Requirement already satisfied: termcolor>=1.1 in /usr/local/lib/python3.11/dist-packages (from detectron2==0.6) (3.0.1)\n",
            "Collecting yacs>=0.1.8 (from detectron2==0.6)\n",
            "  Downloading yacs-0.1.8-py3-none-any.whl.metadata (639 bytes)\n",
            "Requirement already satisfied: tabulate in /usr/local/lib/python3.11/dist-packages (from detectron2==0.6) (0.9.0)\n",
            "Requirement already satisfied: cloudpickle in /usr/local/lib/python3.11/dist-packages (from detectron2==0.6) (3.1.1)\n",
            "Requirement already satisfied: tqdm>4.29.0 in /usr/local/lib/python3.11/dist-packages (from detectron2==0.6) (4.67.1)\n",
            "Requirement already satisfied: tensorboard in /usr/local/lib/python3.11/dist-packages (from detectron2==0.6) (2.18.0)\n",
            "Collecting fvcore<0.1.6,>=0.1.5 (from detectron2==0.6)\n",
            "  Downloading fvcore-0.1.5.post20221221.tar.gz (50 kB)\n",
            "\u001b[2K     \u001b[90m━━━━━━━━━━━━━━━━━━━━━━━━━━━━━━━━━━━━━━━━\u001b[0m \u001b[32m50.2/50.2 kB\u001b[0m \u001b[31m3.4 MB/s\u001b[0m eta \u001b[36m0:00:00\u001b[0m\n",
            "\u001b[?25h  Preparing metadata (setup.py) ... \u001b[?25l\u001b[?25hdone\n",
            "Collecting iopath<0.1.10,>=0.1.7 (from detectron2==0.6)\n",
            "  Downloading iopath-0.1.9-py3-none-any.whl.metadata (370 bytes)\n",
            "Collecting omegaconf<2.4,>=2.1 (from detectron2==0.6)\n",
            "  Downloading omegaconf-2.3.0-py3-none-any.whl.metadata (3.9 kB)\n",
            "Collecting hydra-core>=1.1 (from detectron2==0.6)\n",
            "  Downloading hydra_core-1.3.2-py3-none-any.whl.metadata (5.5 kB)\n",
            "Collecting black (from detectron2==0.6)\n",
            "  Downloading black-25.1.0-cp311-cp311-manylinux_2_17_x86_64.manylinux2014_x86_64.manylinux_2_28_x86_64.whl.metadata (81 kB)\n",
            "\u001b[2K     \u001b[90m━━━━━━━━━━━━━━━━━━━━━━━━━━━━━━━━━━━━━━━━\u001b[0m \u001b[32m81.3/81.3 kB\u001b[0m \u001b[31m5.6 MB/s\u001b[0m eta \u001b[36m0:00:00\u001b[0m\n",
            "\u001b[?25hRequirement already satisfied: packaging in /usr/local/lib/python3.11/dist-packages (from detectron2==0.6) (24.2)\n",
            "Requirement already satisfied: numpy in /usr/local/lib/python3.11/dist-packages (from fvcore<0.1.6,>=0.1.5->detectron2==0.6) (2.0.2)\n",
            "Requirement already satisfied: pyyaml>=5.1 in /usr/local/lib/python3.11/dist-packages (from fvcore<0.1.6,>=0.1.5->detectron2==0.6) (6.0.2)\n",
            "Collecting antlr4-python3-runtime==4.9.* (from hydra-core>=1.1->detectron2==0.6)\n",
            "  Downloading antlr4-python3-runtime-4.9.3.tar.gz (117 kB)\n",
            "\u001b[2K     \u001b[90m━━━━━━━━━━━━━━━━━━━━━━━━━━━━━━━━━━━━━━\u001b[0m \u001b[32m117.0/117.0 kB\u001b[0m \u001b[31m13.1 MB/s\u001b[0m eta \u001b[36m0:00:00\u001b[0m\n",
            "\u001b[?25h  Preparing metadata (setup.py) ... \u001b[?25l\u001b[?25hdone\n",
            "Collecting portalocker (from iopath<0.1.10,>=0.1.7->detectron2==0.6)\n",
            "  Downloading portalocker-3.1.1-py3-none-any.whl.metadata (8.6 kB)\n",
            "Requirement already satisfied: contourpy>=1.0.1 in /usr/local/lib/python3.11/dist-packages (from matplotlib->detectron2==0.6) (1.3.2)\n",
            "Requirement already satisfied: cycler>=0.10 in /usr/local/lib/python3.11/dist-packages (from matplotlib->detectron2==0.6) (0.12.1)\n",
            "Requirement already satisfied: fonttools>=4.22.0 in /usr/local/lib/python3.11/dist-packages (from matplotlib->detectron2==0.6) (4.57.0)\n",
            "Requirement already satisfied: kiwisolver>=1.3.1 in /usr/local/lib/python3.11/dist-packages (from matplotlib->detectron2==0.6) (1.4.8)\n",
            "Requirement already satisfied: pyparsing>=2.3.1 in /usr/local/lib/python3.11/dist-packages (from matplotlib->detectron2==0.6) (3.2.3)\n",
            "Requirement already satisfied: python-dateutil>=2.7 in /usr/local/lib/python3.11/dist-packages (from matplotlib->detectron2==0.6) (2.9.0.post0)\n",
            "Requirement already satisfied: click>=8.0.0 in /usr/local/lib/python3.11/dist-packages (from black->detectron2==0.6) (8.1.8)\n",
            "Collecting mypy-extensions>=0.4.3 (from black->detectron2==0.6)\n",
            "  Downloading mypy_extensions-1.1.0-py3-none-any.whl.metadata (1.1 kB)\n",
            "Collecting pathspec>=0.9.0 (from black->detectron2==0.6)\n",
            "  Downloading pathspec-0.12.1-py3-none-any.whl.metadata (21 kB)\n",
            "Requirement already satisfied: platformdirs>=2 in /usr/local/lib/python3.11/dist-packages (from black->detectron2==0.6) (4.3.7)\n",
            "Requirement already satisfied: absl-py>=0.4 in /usr/local/lib/python3.11/dist-packages (from tensorboard->detectron2==0.6) (1.4.0)\n",
            "Requirement already satisfied: grpcio>=1.48.2 in /usr/local/lib/python3.11/dist-packages (from tensorboard->detectron2==0.6) (1.71.0)\n",
            "Requirement already satisfied: markdown>=2.6.8 in /usr/local/lib/python3.11/dist-packages (from tensorboard->detectron2==0.6) (3.8)\n",
            "Requirement already satisfied: protobuf!=4.24.0,>=3.19.6 in /usr/local/lib/python3.11/dist-packages (from tensorboard->detectron2==0.6) (5.29.4)\n",
            "Requirement already satisfied: setuptools>=41.0.0 in /usr/local/lib/python3.11/dist-packages (from tensorboard->detectron2==0.6) (75.2.0)\n",
            "Requirement already satisfied: six>1.9 in /usr/local/lib/python3.11/dist-packages (from tensorboard->detectron2==0.6) (1.17.0)\n",
            "Requirement already satisfied: tensorboard-data-server<0.8.0,>=0.7.0 in /usr/local/lib/python3.11/dist-packages (from tensorboard->detectron2==0.6) (0.7.2)\n",
            "Requirement already satisfied: werkzeug>=1.0.1 in /usr/local/lib/python3.11/dist-packages (from tensorboard->detectron2==0.6) (3.1.3)\n",
            "Requirement already satisfied: MarkupSafe>=2.1.1 in /usr/local/lib/python3.11/dist-packages (from werkzeug>=1.0.1->tensorboard->detectron2==0.6) (3.0.2)\n",
            "Downloading hydra_core-1.3.2-py3-none-any.whl (154 kB)\n",
            "\u001b[2K   \u001b[90m━━━━━━━━━━━━━━━━━━━━━━━━━━━━━━━━━━━━━━━━\u001b[0m \u001b[32m154.5/154.5 kB\u001b[0m \u001b[31m15.9 MB/s\u001b[0m eta \u001b[36m0:00:00\u001b[0m\n",
            "\u001b[?25hDownloading iopath-0.1.9-py3-none-any.whl (27 kB)\n",
            "Downloading omegaconf-2.3.0-py3-none-any.whl (79 kB)\n",
            "\u001b[2K   \u001b[90m━━━━━━━━━━━━━━━━━━━━━━━━━━━━━━━━━━━━━━━━\u001b[0m \u001b[32m79.5/79.5 kB\u001b[0m \u001b[31m8.3 MB/s\u001b[0m eta \u001b[36m0:00:00\u001b[0m\n",
            "\u001b[?25hDownloading yacs-0.1.8-py3-none-any.whl (14 kB)\n",
            "Downloading black-25.1.0-cp311-cp311-manylinux_2_17_x86_64.manylinux2014_x86_64.manylinux_2_28_x86_64.whl (1.7 MB)\n",
            "\u001b[2K   \u001b[90m━━━━━━━━━━━━━━━━━━━━━━━━━━━━━━━━━━━━━━━━\u001b[0m \u001b[32m1.7/1.7 MB\u001b[0m \u001b[31m54.8 MB/s\u001b[0m eta \u001b[36m0:00:00\u001b[0m\n",
            "\u001b[?25hDownloading mypy_extensions-1.1.0-py3-none-any.whl (5.0 kB)\n",
            "Downloading pathspec-0.12.1-py3-none-any.whl (31 kB)\n",
            "Downloading portalocker-3.1.1-py3-none-any.whl (19 kB)\n",
            "Building wheels for collected packages: detectron2, fvcore, antlr4-python3-runtime\n",
            "  Building wheel for detectron2 (setup.py) ... \u001b[?25l\u001b[?25hdone\n",
            "  Created wheel for detectron2: filename=detectron2-0.6-cp311-cp311-linux_x86_64.whl size=6438279 sha256=a610ceb1a46f25e545793608f9f86b8fc59b8b0db5ed26b8f34d554bf1392182\n",
            "  Stored in directory: /tmp/pip-ephem-wheel-cache-764mwe78/wheels/17/d9/40/60db98e485aa9455d653e29d1046601ce96fe23647f60c1c5a\n",
            "  Building wheel for fvcore (setup.py) ... \u001b[?25l\u001b[?25hdone\n",
            "  Created wheel for fvcore: filename=fvcore-0.1.5.post20221221-py3-none-any.whl size=61397 sha256=a8b3827ae30caae98279f6224535d740485048d67e8040eae142a03348612e38\n",
            "  Stored in directory: /root/.cache/pip/wheels/65/71/95/3b8fde5c65c6e4a806e0867c1651dcc71a1cb2f3430e8f355f\n",
            "  Building wheel for antlr4-python3-runtime (setup.py) ... \u001b[?25l\u001b[?25hdone\n",
            "  Created wheel for antlr4-python3-runtime: filename=antlr4_python3_runtime-4.9.3-py3-none-any.whl size=144554 sha256=72b48cdd1bbb9eb03ec2d5e7b5255ba35c2bdd92ccfe40c9eee864977731af10\n",
            "  Stored in directory: /root/.cache/pip/wheels/1a/97/32/461f837398029ad76911109f07047fde1d7b661a147c7c56d1\n",
            "Successfully built detectron2 fvcore antlr4-python3-runtime\n",
            "Installing collected packages: antlr4-python3-runtime, yacs, portalocker, pathspec, omegaconf, mypy-extensions, iopath, hydra-core, black, fvcore, detectron2\n",
            "Successfully installed antlr4-python3-runtime-4.9.3 black-25.1.0 detectron2-0.6 fvcore-0.1.5.post20221221 hydra-core-1.3.2 iopath-0.1.9 mypy-extensions-1.1.0 omegaconf-2.3.0 pathspec-0.12.1 portalocker-3.1.1 yacs-0.1.8\n"
          ]
        }
      ]
    },
    {
      "cell_type": "code",
      "source": [
        "import logging\n",
        "import torch\n",
        "from collections import OrderedDict\n",
        "import detectron2\n",
        "from detectron2.utils.logger import setup_logger\n",
        "setup_logger()\n",
        "\n",
        "import numpy as np\n",
        "import os, json, cv2, random\n",
        "\n",
        "from detectron2 import model_zoo\n",
        "from detectron2.engine import DefaultPredictor\n",
        "from detectron2.config import get_cfg\n",
        "from detectron2.utils.visualizer import Visualizer\n",
        "from detectron2.data import MetadataCatalog, DatasetCatalog\n",
        "from detectron2.data.datasets import register_coco_instances\n",
        "from detectron2.engine import DefaultTrainer\n",
        "from detectron2.utils.visualizer import ColorMode\n",
        "from detectron2.solver import build_lr_scheduler, build_optimizer\n",
        "from detectron2.checkpoint import DetectionCheckpointer, PeriodicCheckpointer\n",
        "from detectron2.utils.events import EventStorage\n",
        "from detectron2.modeling import build_model\n",
        "import detectron2.utils.comm as comm\n",
        "from detectron2.engine import default_argument_parser, default_setup, default_writers, launch\n",
        "from detectron2.data import (\n",
        "    MetadataCatalog,\n",
        "    build_detection_test_loader,\n",
        "    build_detection_train_loader,\n",
        ")\n",
        "from detectron2.evaluation import (\n",
        "    CityscapesInstanceEvaluator,\n",
        "    CityscapesSemSegEvaluator,\n",
        "    COCOEvaluator,\n",
        "    COCOPanopticEvaluator,\n",
        "    DatasetEvaluators,\n",
        "    LVISEvaluator,\n",
        "    PascalVOCDetectionEvaluator,\n",
        "    SemSegEvaluator,\n",
        "    inference_on_dataset,\n",
        "    print_csv_format,\n",
        ")\n",
        "\n",
        "from roboflow import Roboflow\n",
        "\n",
        "from matplotlib import pyplot as plt\n",
        "from PIL import Image"
      ],
      "metadata": {
        "id": "eKilmfREUtJ2"
      },
      "execution_count": null,
      "outputs": []
    },
    {
      "cell_type": "code",
      "source": [
        "#register_coco_instances(\"my_dataset_train\", {}, \"/content/GPR_LINE-14/train/_annotations.coco.json\", \"/content/GPR_LINE-14/train\")\n",
        "#register_coco_instances(\"my_dataset_val\", {}, \"/content/GPR_LINE-14/valid/_annotations.coco.json\", \"/content/GPR_LINE-14/valid\")\n",
        "register_coco_instances(\"my_dataset_test\", {}, \"/content/drive/MyDrive/Mask R-CNN_ResNeXt_GPR/GPR_Concrete lining_Data/GPR_LINE-14/test/_annotations.coco.json\", \"/content/drive/MyDrive/Mask R-CNN_ResNeXt_GPR/GPR_Concrete lining_Data/GPR_LINE-14/test\")"
      ],
      "metadata": {
        "id": "jWrwW_kKUzdJ"
      },
      "execution_count": null,
      "outputs": []
    },
    {
      "cell_type": "code",
      "source": [
        "cfg = get_cfg()\n",
        "cfg.merge_from_file(model_zoo.get_config_file(\"COCO-InstanceSegmentation/mask_rcnn_X_101_32x8d_FPN_3x.yaml\"))\n",
        "#cfg.DATASETS.TRAIN = (\"my_dataset_train\",)\n",
        "cfg.DATASETS.TEST = (\"my_dataset_test\",)\n",
        "cfg.DATALOADER.NUM_WORKERS = 2\n",
        "cfg.MODEL.WEIGHTS = model_zoo.get_checkpoint_url(\"COCO-InstanceSegmentation/mask_rcnn_X_101_32x8d_FPN_3x.yaml\")\n",
        "cfg.SOLVER.IMS_PER_BATCH = 8\n",
        "cfg.SOLVER.BASE_LR = 0.02\n",
        "cfg.SOLVER.MAX_ITER = 10000\n",
        "cfg.SOLVER.STEPS = [7000, 9000]\n",
        "cfg.SOLVER.CHECKPOINT_PERIOD = 300\n",
        "cfg.MODEL.ROI_HEADS.BATCH_SIZE_PER_IMAGE = 256\n",
        "cfg.MODEL.ROI_HEADS.NUM_CLASSES = 27\n",
        "cfg.TEST.EVAL_PERIOD = 0\n",
        "\n",
        "PATIENCE = 1000\n",
        "os.makedirs(cfg.OUTPUT_DIR, exist_ok=True)"
      ],
      "metadata": {
        "id": "IuSbVUHPVE_E"
      },
      "execution_count": null,
      "outputs": []
    },
    {
      "cell_type": "code",
      "source": [
        "'''\n",
        "def get_evaluator(cfg, dataset_name, output_folder=None):\n",
        "\n",
        "    if output_folder is None:\n",
        "        output_folder = os.path.join(cfg.OUTPUT_DIR, \"inference\")\n",
        "    evaluator_list = []\n",
        "    evaluator_type = MetadataCatalog.get(dataset_name).evaluator_type\n",
        "    if evaluator_type in [\"sem_seg\", \"coco_panoptic_seg\"]:\n",
        "        evaluator_list.append(\n",
        "            SemSegEvaluator(\n",
        "                dataset_name,\n",
        "                distributed=True,\n",
        "                output_dir=output_folder,\n",
        "            )\n",
        "        )\n",
        "    if evaluator_type in [\"coco\", \"coco_panoptic_seg\"]:\n",
        "        evaluator_list.append(COCOEvaluator(dataset_name, output_dir=output_folder))\n",
        "    if evaluator_type == \"coco_panoptic_seg\":\n",
        "        evaluator_list.append(COCOPanopticEvaluator(dataset_name, output_folder))\n",
        "    if evaluator_type == \"cityscapes_instance\":\n",
        "        return CityscapesInstanceEvaluator(dataset_name)\n",
        "    if evaluator_type == \"cityscapes_sem_seg\":\n",
        "        return CityscapesSemSegEvaluator(dataset_name)\n",
        "    if evaluator_type == \"pascal_voc\":\n",
        "        return PascalVOCDetectionEvaluator(dataset_name)\n",
        "    if evaluator_type == \"lvis\":\n",
        "        return LVISEvaluator(dataset_name, cfg, True, output_folder)\n",
        "    if len(evaluator_list) == 0:\n",
        "        raise NotImplementedError(\n",
        "            \"no Evaluator for the dataset {} with the type {}\".format(dataset_name, evaluator_type)\n",
        "        )\n",
        "    if len(evaluator_list) == 1:\n",
        "        return evaluator_list[0]\n",
        "    return DatasetEvaluators(evaluator_list)\n",
        "\n",
        "def do_test(cfg, model):\n",
        "    results = OrderedDict()\n",
        "    for dataset_name in cfg.DATASETS.TEST:\n",
        "        data_loader = build_detection_test_loader(cfg, dataset_name)\n",
        "        evaluator = get_evaluator(\n",
        "            cfg, dataset_name, os.path.join(cfg.OUTPUT_DIR, \"inference\", dataset_name)\n",
        "        )\n",
        "        results_i = inference_on_dataset(model, data_loader, evaluator)\n",
        "        results[dataset_name] = results_i\n",
        "        if comm.is_main_process():\n",
        "            logger.info(\"Evaluation results for {} in csv format:\".format(dataset_name))\n",
        "            print_csv_format(results_i)\n",
        "    if len(results) == 1:\n",
        "        results = list(results.values())[0]\n",
        "    return results\n",
        "\n",
        "\n",
        "logger = logging.getLogger(\"detectron2\")\n",
        "resume=False\n",
        "model = build_model(cfg)\n",
        "optimizer = build_optimizer(cfg, model)\n",
        "scheduler = build_lr_scheduler(cfg, optimizer)\n",
        "\n",
        "BEST_LOSS = np.inf\n",
        "\n",
        "checkpointer = DetectionCheckpointer(\n",
        "    model, cfg.OUTPUT_DIR, optimizer=optimizer, scheduler=scheduler\n",
        ")\n",
        "start_iter = (\n",
        "    checkpointer.resume_or_load(cfg.MODEL.WEIGHTS, resume=resume).get(\"iteration\", -1) + 1\n",
        ")\n",
        "prev_iter = start_iter\n",
        "max_iter = cfg.SOLVER.MAX_ITER\n",
        "\n",
        "periodic_checkpointer = PeriodicCheckpointer(\n",
        "    checkpointer, cfg.SOLVER.CHECKPOINT_PERIOD, max_iter=max_iter\n",
        ")\n",
        "\n",
        "writers = default_writers(cfg.OUTPUT_DIR, max_iter) if comm.is_main_process() else []\n",
        "\n",
        "data_loader = build_detection_train_loader(cfg)\n",
        "logger.info(\"Starting training from iteration {}\".format(start_iter))\n",
        "patience_counter = 0\n",
        "with EventStorage(start_iter) as storage:\n",
        "    for data, iteration in zip(data_loader, range(start_iter, max_iter)):\n",
        "        storage.iter = iteration\n",
        "\n",
        "        loss_dict = model(data)\n",
        "        losses = sum(loss_dict.values())\n",
        "        assert torch.isfinite(losses).all(), loss_dict\n",
        "\n",
        "        loss_dict_reduced = {k: v.item() for k, v in comm.reduce_dict(loss_dict).items()}\n",
        "        losses_reduced = sum(loss for loss in loss_dict_reduced.values())\n",
        "        if comm.is_main_process():\n",
        "            storage.put_scalars(total_loss=losses_reduced, **loss_dict_reduced)\n",
        "\n",
        "        optimizer.zero_grad()\n",
        "        losses.backward()\n",
        "        optimizer.step()\n",
        "        storage.put_scalar(\"lr\", optimizer.param_groups[0][\"lr\"], smoothing_hint=False)\n",
        "        scheduler.step()\n",
        "\n",
        "        if (\n",
        "            cfg.TEST.EVAL_PERIOD > 0\n",
        "            and (iteration + 1) % cfg.TEST.EVAL_PERIOD == 0\n",
        "            and iteration != max_iter - 1\n",
        "        ):\n",
        "            do_test(cfg, model)\n",
        "            comm.synchronize()\n",
        "\n",
        "        if iteration - start_iter > 5 and (\n",
        "            (iteration + 1) % 20 == 0 or iteration == max_iter - 1\n",
        "        ):\n",
        "            for writer in writers:\n",
        "                writer.write()\n",
        "        periodic_checkpointer.step(iteration)\n",
        "\n",
        "        if iteration > prev_iter:\n",
        "            prev_iter = iteration\n",
        "            if losses_reduced < BEST_LOSS:\n",
        "                BEST_LOSS = losses_reduced\n",
        "                patience_counter = 0\n",
        "            else:\n",
        "                patience_counter += 1\n",
        "                if patience_counter % 100 == 0:\n",
        "                    print(f\"Loss has not improved for {patience_counter} iterations\")\n",
        "                if patience_counter >= PATIENCE:\n",
        "                    print(f\"EARLY STOPPING\")\n",
        "                    break\n",
        "\n",
        "do_test(cfg, model)\n",
        "'''"
      ],
      "metadata": {
        "id": "Fcudy9gvX0r9"
      },
      "execution_count": null,
      "outputs": []
    },
    {
      "cell_type": "code",
      "source": [
        "'''\n",
        "%load_ext tensorboard\n",
        "%tensorboard --logdir output\n",
        "'''"
      ],
      "metadata": {
        "id": "xGj4Q9HTX4QW"
      },
      "execution_count": null,
      "outputs": []
    },
    {
      "cell_type": "code",
      "source": [
        "cfg.MODEL.WEIGHTS = os.path.join(cfg.OUTPUT_DIR, \"/content/drive/MyDrive/Mask R-CNN_ResNeXt_GPR/Model_Final/model_final.pth\")  # path to the model we just trained\n",
        "cfg.MODEL.ROI_HEADS.SCORE_THRESH_TEST = 0.2   # set a custom testing threshold\n",
        "predictor = DefaultPredictor(cfg)"
      ],
      "metadata": {
        "colab": {
          "base_uri": "https://localhost:8080/"
        },
        "id": "-6bqOuJ0YHTG",
        "outputId": "a69d9bfb-125d-4db3-c4f8-382a096a4f7d"
      },
      "execution_count": null,
      "outputs": [
        {
          "output_type": "stream",
          "name": "stdout",
          "text": [
            "[05/03 09:03:20 d2.checkpoint.detection_checkpoint]: [DetectionCheckpointer] Loading from /content/drive/MyDrive/Mask R-CNN_ResNeXt_GPR/Model_Final/model_final.pth ...\n"
          ]
        }
      ]
    },
    {
      "cell_type": "code",
      "source": [
        "import cv2\n",
        "import random\n",
        "from google.colab.patches import cv2_imshow"
      ],
      "metadata": {
        "id": "MvUyfs6iYhgw"
      },
      "execution_count": null,
      "outputs": []
    },
    {
      "cell_type": "code",
      "source": [
        "import os\n",
        "import cv2\n",
        "from detectron2.utils.visualizer import Visualizer\n",
        "from detectron2.data import MetadataCatalog\n",
        "\n",
        "# Ensure the output directory exists\n",
        "output_directory = '/content/drive/MyDrive/Mask R-CNN_ResNeXt_GPR/'\n",
        "os.makedirs(output_directory, exist_ok=True)\n",
        "\n",
        "# Load test dataset\n",
        "test_dataset_dicts = DatasetCatalog.get(\"my_dataset_test\")\n",
        "test_metadata = MetadataCatalog.get(\"my_dataset_test\")\n",
        "\n",
        "# Predict and save the results\n",
        "for i, d in enumerate(test_dataset_dicts):\n",
        "    img = cv2.imread(d[\"file_name\"])\n",
        "    outputs = predictor(img)\n",
        "    v = Visualizer(img[:, :, ::-1],\n",
        "                   metadata=test_metadata,\n",
        "                   scale=0.5,\n",
        "                   instance_mode=ColorMode.IMAGE_BW   # removes the colors of unsegmented pixels\n",
        "    )\n",
        "    out = v.draw_instance_predictions(outputs[\"instances\"].to(\"cpu\"))\n",
        "    result_img = out.get_image()[:, :, ::-1]\n",
        "\n",
        "    # Save the output image\n",
        "    cv2.imwrite(os.path.join(output_directory, f\"result_{i}.jpg\"), result_img)\n",
        "\n",
        "    if i % 10 == 0:\n",
        "        print(f\"Processed {i+1} images\")\n"
      ],
      "metadata": {
        "colab": {
          "base_uri": "https://localhost:8080/"
        },
        "id": "3SjkbBZ0Y9cC",
        "outputId": "ec5728e9-7245-4806-c5e4-9de16582e20f"
      },
      "execution_count": null,
      "outputs": [
        {
          "output_type": "stream",
          "name": "stdout",
          "text": [
            "WARNING [05/03 09:05:29 d2.data.datasets.coco]: \n",
            "Category ids in annotations are not in [1, #categories]! We'll apply a mapping for you.\n",
            "\n",
            "[05/03 09:05:29 d2.data.datasets.coco]: Loaded 100 images in COCO format from /content/drive/MyDrive/Mask R-CNN_ResNeXt_GPR/GPR_Concrete lining_Data/GPR_LINE-14/test/_annotations.coco.json\n"
          ]
        },
        {
          "output_type": "stream",
          "name": "stderr",
          "text": [
            "torch.meshgrid: in an upcoming release, it will be required to pass the indexing argument. (Triggered internally at /pytorch/aten/src/ATen/native/TensorShape.cpp:3637.)\n"
          ]
        },
        {
          "output_type": "stream",
          "name": "stdout",
          "text": [
            "Processed 1 images\n",
            "Processed 11 images\n",
            "Processed 21 images\n",
            "Processed 31 images\n",
            "Processed 41 images\n",
            "Processed 51 images\n",
            "Processed 61 images\n",
            "Processed 71 images\n",
            "Processed 81 images\n",
            "Processed 91 images\n"
          ]
        }
      ]
    },
    {
      "cell_type": "code",
      "source": [
        "import cv2\n",
        "import numpy as np\n",
        "from detectron2.utils.visualizer import Visualizer\n",
        "from detectron2.data import MetadataCatalog\n",
        "\n",
        "# 이 함수는 각 테스트 이미지에 대해 예측을 수행하고, 모든 예측된 객체의 마스크를 하나의 색상으로 통합합니다.\n",
        "def visualize_and_color_masks(predictor, dataset_dicts, output_directory):\n",
        "    for i, d in enumerate(dataset_dicts):\n",
        "        img = cv2.imread(d[\"file_name\"])\n",
        "        outputs = predictor(img)\n",
        "        pred_masks = outputs[\"instances\"].pred_masks.to(\"cpu\").numpy()\n",
        "\n",
        "        # 모든 마스크를 하나의 색상으로 통합하기 위해 결과 이미지를 초기화합니다.\n",
        "        result_img = np.zeros_like(img)\n",
        "\n",
        "        # 각 마스크를 빨간색으로 칠합니다.\n",
        "        for mask in pred_masks:\n",
        "            result_img[mask] = [0, 0, 255]  # BGR 색상 코드 (빨간색)\n",
        "\n",
        "        # 결과 이미지를 저장합니다.\n",
        "        cv2.imwrite(os.path.join(output_directory, f\"colored_mask_{i}.jpg\"), result_img)\n",
        "\n",
        "        if i % 10 == 0:\n",
        "            print(f\"Processed {i+1} images\")\n",
        "\n",
        "# 테스트 데이터셋과 결과 저장 디렉터리 설정\n",
        "test_dataset_dicts = DatasetCatalog.get(\"my_dataset_test\")\n",
        "output_directory = '/content/drive/MyDrive/Mask R-CNN_ResNeXt_GPR/Result_Red Mask'\n",
        "os.makedirs(output_directory, exist_ok=True)\n",
        "\n",
        "# Predictor 설정\n",
        "cfg.MODEL.WEIGHTS = os.path.join(cfg.OUTPUT_DIR, \"/content/drive/MyDrive/Mask R-CNN_ResNeXt_GPR/Model_Final/model_final.pth\")  # 훈련된 모델 경로\n",
        "cfg.MODEL.ROI_HEADS.SCORE_THRESH_TEST = 0.2   # 객체 감지 임계값\n",
        "predictor = DefaultPredictor(cfg)\n",
        "\n",
        "# 함수 호출로 이미지 처리 및 시각화\n",
        "visualize_and_color_masks(predictor, test_dataset_dicts, output_directory)"
      ],
      "metadata": {
        "colab": {
          "base_uri": "https://localhost:8080/"
        },
        "id": "-lqqPDO0ZOaq",
        "outputId": "59525416-6bb4-45f5-9c11-58449bc18053"
      },
      "execution_count": null,
      "outputs": [
        {
          "output_type": "stream",
          "name": "stdout",
          "text": [
            "WARNING [05/03 09:09:12 d2.data.datasets.coco]: \n",
            "Category ids in annotations are not in [1, #categories]! We'll apply a mapping for you.\n",
            "\n",
            "[05/03 09:09:12 d2.data.datasets.coco]: Loaded 100 images in COCO format from /content/drive/MyDrive/Mask R-CNN_ResNeXt_GPR/GPR_Concrete lining_Data/GPR_LINE-14/test/_annotations.coco.json\n",
            "[05/03 09:09:14 d2.checkpoint.detection_checkpoint]: [DetectionCheckpointer] Loading from /content/drive/MyDrive/Mask R-CNN_ResNeXt_GPR/Model_Final/model_final.pth ...\n",
            "Processed 1 images\n",
            "Processed 11 images\n",
            "Processed 21 images\n",
            "Processed 31 images\n",
            "Processed 41 images\n",
            "Processed 51 images\n",
            "Processed 61 images\n",
            "Processed 71 images\n",
            "Processed 81 images\n",
            "Processed 91 images\n"
          ]
        }
      ]
    },
    {
      "cell_type": "code",
      "source": [
        "dataset_dicts = DatasetCatalog.get(\"my_dataset_test\")"
      ],
      "metadata": {
        "colab": {
          "base_uri": "https://localhost:8080/"
        },
        "id": "e35a9SMeZSCA",
        "outputId": "80a503ac-ea2d-4fb1-9dc5-2cd3e8801bf8"
      },
      "execution_count": null,
      "outputs": [
        {
          "output_type": "stream",
          "name": "stdout",
          "text": [
            "WARNING [05/03 09:10:12 d2.data.datasets.coco]: \n",
            "Category ids in annotations are not in [1, #categories]! We'll apply a mapping for you.\n",
            "\n",
            "[05/03 09:10:12 d2.data.datasets.coco]: Loaded 100 images in COCO format from /content/drive/MyDrive/Mask R-CNN_ResNeXt_GPR/GPR_Concrete lining_Data/GPR_LINE-14/test/_annotations.coco.json\n"
          ]
        }
      ]
    },
    {
      "cell_type": "code",
      "source": [
        "# 모델 경로 설정\n",
        "cfg.MODEL.WEIGHTS = \"/content/drive/MyDrive/Mask R-CNN_ResNeXt_GPR/Model_Final/model_final.pth\"\n",
        "cfg.MODEL.ROI_HEADS.SCORE_THRESH_TEST = 0.2\n",
        "predictor = DefaultPredictor(cfg)"
      ],
      "metadata": {
        "colab": {
          "base_uri": "https://localhost:8080/"
        },
        "id": "bbCT3IWnZT_Y",
        "outputId": "a2ae20fc-5795-430c-e4e4-144341adcd60"
      },
      "execution_count": null,
      "outputs": [
        {
          "output_type": "stream",
          "name": "stdout",
          "text": [
            "[05/03 09:10:50 d2.checkpoint.detection_checkpoint]: [DetectionCheckpointer] Loading from /content/drive/MyDrive/Mask R-CNN_ResNeXt_GPR/Model_Final/model_final.pth ...\n"
          ]
        }
      ]
    },
    {
      "cell_type": "code",
      "source": [
        "from detectron2.utils.visualizer import Visualizer\n",
        "import numpy as np\n",
        "\n",
        "# 테스트 데이터셋에서 이미지 가져오기\n",
        "dataset_dicts = DatasetCatalog.get(\"my_dataset_test\")  # 테스트 데이터셋 사용\n",
        "image_index = 2  # 테스트할 이미지 인덱스 지정\n",
        "image_dict = dataset_dicts[image_index]  # 해당 인덱스의 이미지 딕셔너리 가져오기\n",
        "image = cv2.imread(image_dict['file_name'])  # 이미지 파일 읽기\n",
        "\n",
        "# 객체 탐지 수행\n",
        "outputs = predictor(image)\n",
        "\n",
        "# 붉은색 (빨간색) 설정\n",
        "red_color = (0, 0, 255)  # OpenCV에서 색상은 (B, G, R) 순서\n",
        "\n",
        "# 모든 객체의 마스크를 붉은색으로 변경하여 이미지에 적용\n",
        "for mask in outputs[\"instances\"].pred_masks:\n",
        "    mask = mask.mul(255).byte().cpu().numpy()  # 마스크 값을 넘파이 배열로 변환\n",
        "    red_mask = np.stack([mask, np.zeros_like(mask), np.zeros_like(mask)], axis=2)  # 붉은색으로 변경\n",
        "    image[mask > 0] = red_color  # 이미지에 붉은색 마스크를 적용\n",
        "\n",
        "# 이미지 저장\n",
        "output_image_path = \"/content/drive/MyDrive/Mask R-CNN_ResNeXt_GPR/Result_Red Mask_with_GPR.jpg\"  # 이미지를 저장할 경로 및 파일 이름 지정\n",
        "cv2.imwrite(output_image_path, image)\n",
        "\n",
        "\n",
        "# 저장된 이미지 출력\n",
        "output_image = cv2.imread(output_image_path)\n",
        "output_image = cv2.cvtColor(output_image, cv2.COLOR_BGR2RGB)  # OpenCV의 BGR 형식을 RGB 형식으로 변환\n",
        "plt.imshow(output_image)\n",
        "plt.axis('off')\n",
        "plt.show()"
      ],
      "metadata": {
        "colab": {
          "base_uri": "https://localhost:8080/",
          "height": 187
        },
        "id": "4DW-VQ0OZVV9",
        "outputId": "4946244f-4703-48d5-f9b4-8f10d3023a9a"
      },
      "execution_count": null,
      "outputs": [
        {
          "output_type": "stream",
          "name": "stdout",
          "text": [
            "WARNING [05/03 09:11:44 d2.data.datasets.coco]: \n",
            "Category ids in annotations are not in [1, #categories]! We'll apply a mapping for you.\n",
            "\n",
            "[05/03 09:11:44 d2.data.datasets.coco]: Loaded 100 images in COCO format from /content/drive/MyDrive/Mask R-CNN_ResNeXt_GPR/GPR_Concrete lining_Data/GPR_LINE-14/test/_annotations.coco.json\n"
          ]
        },
        {
          "output_type": "display_data",
          "data": {
            "text/plain": [
              "<Figure size 640x480 with 1 Axes>"
            ],
            "image/png": "[encoded data removed]"
          },
          "metadata": {}
        }
      ]
    },
    {
      "cell_type": "code",
      "source": [
        "from detectron2.utils.visualizer import Visualizer\n",
        "import numpy as np\n",
        "import os\n",
        "\n",
        "# 저장할 디렉토리 생성\n",
        "save_directory = \"/content/drive/MyDrive/Mask R-CNN_ResNeXt_GPR/Result_Red Mask_with_GPR\"\n",
        "os.makedirs(save_directory, exist_ok=True)\n",
        "\n",
        "# 테스트 데이터셋에서 이미지 가져오기\n",
        "dataset_dicts = DatasetCatalog.get(\"my_dataset_test\")  # 테스트 데이터셋 사용\n",
        "\n",
        "# 객체 탐지 및 붉은색 마스크 적용 후 이미지 저장\n",
        "for image_dict in dataset_dicts:\n",
        "    image = cv2.imread(image_dict['file_name'])  # 이미지 파일 읽기\n",
        "    original_filename = os.path.basename(image_dict['file_name'])  # 원본 파일 이름 가져오기\n",
        "\n",
        "    # 객체 탐지 수행\n",
        "    outputs = predictor(image)\n",
        "\n",
        "    # 붉은색 (빨간색) 설정\n",
        "    red_color = (0, 0, 255)  # OpenCV에서 색상은 (B, G, R) 순서\n",
        "\n",
        "    # 모든 객체의 마스크를 붉은색으로 변경하여 이미지에 적용\n",
        "    for mask in outputs[\"instances\"].pred_masks:\n",
        "        mask = mask.mul(255).byte().cpu().numpy()  # 마스크 값을 넘파이 배열로 변환\n",
        "        red_mask = np.stack([mask, np.zeros_like(mask), np.zeros_like(mask)], axis=2)  # 붉은색으로 변경\n",
        "        image[mask > 0] = red_color  # 이미지에 붉은색 마스크를 적용\n",
        "\n",
        "    # 이미지 저장 (원본 파일 이름으로 저장)\n",
        "    output_image_path = os.path.join(save_directory, original_filename)  # 이미지를 저장할 경로 및 파일 이름 지정\n",
        "    cv2.imwrite(output_image_path, image)\n"
      ],
      "metadata": {
        "colab": {
          "base_uri": "https://localhost:8080/"
        },
        "id": "rWWO3fnIZi1n",
        "outputId": "50e03e40-7ccd-4c39-bb2f-f0704ef31297"
      },
      "execution_count": null,
      "outputs": [
        {
          "output_type": "stream",
          "name": "stdout",
          "text": [
            "WARNING [05/03 09:13:31 d2.data.datasets.coco]: \n",
            "Category ids in annotations are not in [1, #categories]! We'll apply a mapping for you.\n",
            "\n",
            "[05/03 09:13:31 d2.data.datasets.coco]: Loaded 100 images in COCO format from /content/drive/MyDrive/Mask R-CNN_ResNeXt_GPR/GPR_Concrete lining_Data/GPR_LINE-14/test/_annotations.coco.json\n"
          ]
        }
      ]
    },
    {
      "cell_type": "code",
      "source": [
        "import cv2\n",
        "import numpy as np\n",
        "import os\n",
        "from google.colab.patches import cv2_imshow\n",
        "\n",
        "# 좌표 파일(txt에서 라벨링된 다각형 좌표 읽어오기\n",
        "def read_coordinates_from_txt(file_path, original_width, original_height):\n",
        "    with open(file_path, 'r') as file:\n",
        "        lines = file.readlines()\n",
        "        coordinates = []\n",
        "        for line in lines:\n",
        "            parts = line.strip().split()\n",
        "            if len(parts) > 1:\n",
        "                normalized_coords = [float(coord) for coord in parts[1:]]\n",
        "                polygon = [(int(normalized_coords[i] * original_width), int(normalized_coords[i + 1] * original_height))\n",
        "                           for i in range(0, len(normalized_coords), 2)]\n",
        "                coordinates.append(polygon)\n",
        "    return coordinates\n",
        "\n",
        "# IOU 계산 함수\n",
        "def calculate_iou(detected_polygons, labeled_polygon):\n",
        "    intersection = cv2.bitwise_and(detected_polygons, labeled_polygon)\n",
        "    intersection_area = np.count_nonzero(intersection)\n",
        "    detected_area = np.count_nonzero(detected_polygons)\n",
        "    label_area = np.count_nonzero(labeled_polygon)\n",
        "\n",
        "    iou = intersection_area / (detected_area + label_area - intersection_area) if (detected_area + label_area - intersection_area) > 0 else 0\n",
        "    return iou\n",
        "\n",
        "def calculate_ious(detected_polygons, unioned_polygons):\n",
        "    intersection = cv2.bitwise_and(detected_polygons, unioned_polygons)\n",
        "    intersection_area = np.count_nonzero(intersection)\n",
        "    unioned_area = np.count_nonzero(unioned_polygons)\n",
        "\n",
        "    iou = intersection_area / unioned_area if unioned_area > 0 else 0\n",
        "    return iou\n",
        "\n",
        "# 경로 설정\n",
        "original_images_path = \"/content/drive/MyDrive/GPR_LINE_For_IoU/test/images\"\n",
        "label_images_path = \"/content/drive/MyDrive/GPR_LINE_For_IoU/test/labels\"\n",
        "detected_images_path = \"/content/drive/MyDrive/Mask R-CNN_ResNeXt_GPR/Result_Red Mask_with_GPR\"\n",
        "\n",
        "# 선택된 이미지 정보 설정\n",
        "selected_image_idx = 13\n",
        "\n",
        "# 선택된 이미지 파일명 가져오기\n",
        "detected_images = sorted(os.listdir(detected_images_path))\n",
        "selected_image = os.path.join(detected_images_path, detected_images[selected_image_idx])\n",
        "\n",
        "# 탐지된 이미지 읽기\n",
        "detected_image = cv2.imread(selected_image)\n",
        "\n",
        "# 해당 이미지에 대한 라벨링된 이미지 및 원본 이미지 파일 경로 설정\n",
        "selected_label_image_path = os.path.join(label_images_path, detected_images[selected_image_idx].replace(\".jpg\", \".txt\"))\n",
        "selected_original_image_path = os.path.join(original_images_path, detected_images[selected_image_idx])\n",
        "\n",
        "# 라벨링된 이미지 읽기\n",
        "label_image = cv2.imread(selected_original_image_path)\n",
        "label_height, label_width = label_image.shape[:2]\n",
        "\n",
        "# 라벨링된 다각형 좌표 읽어오기\n",
        "label_coordinates = read_coordinates_from_txt(selected_label_image_path, label_width, label_height)\n",
        "\n",
        "# 원본 이미지와 같은 크기의 빈 이미지 생성\n",
        "labeled_image = np.zeros_like(detected_image)\n",
        "\n",
        "# 라벨링된 이미지에 라벨링 추가 (색상 지정)\n",
        "colors = [(0, 255, 255), (0, 0, 255), (255, 0, 0), (0, 255, 0)]  # 노란색, 빨간색, 파란색, 초록색 (BGR)\n",
        "color_index = 0\n",
        "for coordinates in label_coordinates:\n",
        "    pts = np.array(coordinates, np.int32)\n",
        "    pts = pts.reshape((-1, 1, 2))\n",
        "    cv2.fillPoly(labeled_image, [pts], color=colors[color_index])\n",
        "    color_index = (color_index + 1) % len(colors)  # 색상 반복\n",
        "\n",
        "# 탐지된 이미지 중 넓은 범위의 붉은색 색상 추출 (흰색으로 변경)\n",
        "min_red = np.array([0, 0, 130])\n",
        "max_red = np.array([110, 110, 255])\n",
        "detected_red = cv2.inRange(detected_image, min_red, max_red)\n",
        "detected_red_resized = cv2.resize(detected_red, (label_width, label_height))\n",
        "detected_red_resized_3ch = cv2.merge([detected_red_resized, detected_red_resized, detected_red_resized])\n",
        "detected_red_resized_3ch[np.any(detected_red_resized_3ch > 0, axis=2)] = [255, 255, 255]  # 흰색으로 변경\n",
        "\n",
        "# 교집합 이미지 (색상 변경 없음)\n",
        "intersection_image = cv2.bitwise_and(detected_red_resized_3ch, labeled_image)\n",
        "intersection_image[np.any(intersection_image > 0, axis=2)] = [255, 0, 0]  # 파란색 (BGR)\n",
        "\n",
        "# 합집합 이미지 (보라색으로 변경)\n",
        "union_image = cv2.bitwise_or(detected_red_resized_3ch, labeled_image)\n",
        "union_image[np.any(union_image > 0, axis=2)] = [255, 0, 255]\n",
        "\n",
        "# IOU 계산\n",
        "iou = calculate_ious(detected_red_resized_3ch, union_image)\n",
        "\n",
        "# 시각화 (탐지된 붉은색 부분, 라벨링된 이미지, 교집합된 이미지, 합집합 이미지)\n",
        "cv2_imshow(detected_red_resized_3ch)\n",
        "cv2_imshow(labeled_image)\n",
        "cv2_imshow(intersection_image)\n",
        "cv2_imshow(union_image)\n",
        "\n",
        "# 출력: 이미지 파일명과 해당 이미지의 IOU\n",
        "print(f\"Selected Image: {detected_images[selected_image_idx]}\")\n",
        "print(f\"IoU: {iou}\")"
      ],
      "metadata": {
        "colab": {
          "base_uri": "https://localhost:8080/",
          "height": 627
        },
        "id": "cVgEDotWlzkp",
        "outputId": "48efb97e-2487-463e-b5d0-496b31bcd306"
      },
      "execution_count": null,
      "outputs": [
        {
          "output_type": "display_data",
          "data": {
            "text/plain": [
              "<PIL.Image.Image image mode=RGB size=869x144>"
            ],
            "image/png": "[encoded data removed]",
            "image/jpeg": "[encoded data removed]"
          },
          "metadata": {}
        },
        {
          "output_type": "display_data",
          "data": {
            "text/plain": [
              "<PIL.Image.Image image mode=RGB size=869x144>"
            ],
            "image/png": "[encoded data removed]",
            "image/jpeg": "[encoded data removed]"
          },
          "metadata": {}
        },
        {
          "output_type": "display_data",
          "data": {
            "text/plain": [
              "<PIL.Image.Image image mode=RGB size=869x144>"
            ],
            "image/png": "[encoded data removed]",
            "image/jpeg": "[encoded data removed]"
          },
          "metadata": {}
        },
        {
          "output_type": "display_data",
          "data": {
            "text/plain": [
              "<PIL.Image.Image image mode=RGB size=869x144>"
            ],
            "image/png": "[encoded data removed]",
            "image/jpeg": "[encoded data removed]"
          },
          "metadata": {}
        },
        {
          "output_type": "stream",
          "name": "stdout",
          "text": [
            "Selected Image: F_LC_S0981-1-0983-10_png.rf.75b98c79efc8093afddeeaa82b398167.jpg\n",
            "IoU: 0.9562191838304718\n"
          ]
        }
      ]
    },
    {
      "cell_type": "code",
      "source": [
        "import cv2\n",
        "import numpy as np\n",
        "import os\n",
        "\n",
        "# 좌표 파일(txt)에서 라벨링된 다각형 좌표 읽어오기\n",
        "def read_coordinates_from_txt(file_path, original_width, original_height):\n",
        "    with open(file_path, 'r') as file:\n",
        "        lines = file.readlines()\n",
        "        coordinates = []\n",
        "        for line in lines:\n",
        "            parts = line.strip().split()\n",
        "            if len(parts) > 1:\n",
        "                normalized_coords = [float(coord) for coord in parts[1:]]\n",
        "                polygon = [(int(normalized_coords[i] * original_width), int(normalized_coords[i + 1] * original_height))\n",
        "                           for i in range(0, len(normalized_coords), 2)]\n",
        "                coordinates.append(polygon)\n",
        "    return coordinates\n",
        "\n",
        "# IOU 계산 함수\n",
        "def calculate_iou(detected_polygons, labeled_polygon):\n",
        "    intersection = cv2.bitwise_and(detected_polygons, labeled_polygon)\n",
        "    intersection_area = np.count_nonzero(intersection)\n",
        "    label_area = np.count_nonzero(labeled_polygon)\n",
        "\n",
        "    iou = intersection_area / label_area if label_area > 0 else 0\n",
        "    return iou\n",
        "\n",
        "def calculate_ious(detected_polygons, unioned_polygons):\n",
        "    intersection = cv2.bitwise_and(detected_polygons, unioned_polygons)\n",
        "    intersection_area = np.count_nonzero(intersection)\n",
        "    unioned_area = np.count_nonzero(unioned_polygons)\n",
        "\n",
        "    iou = intersection_area / unioned_area if unioned_area > 0 else 0\n",
        "    return iou\n",
        "\n",
        "\n",
        "# 경로 설정\n",
        "original_images_path = \"/content/drive/MyDrive/GPR_LINE_For_IoU/test/images\"\n",
        "label_images_path = \"/content/drive/MyDrive/GPR_LINE_For_IoU/test/labels\"\n",
        "detected_images_path = \"/content/drive/MyDrive/Mask R-CNN_ResNeXt_GPR/Result_Red Mask_with_GPR\"\n",
        "\n",
        "# 각 이미지의 IOU 계산 및 출력\n",
        "total_iou = 0.0\n",
        "num_images = len(detected_images)\n",
        "for idx, detected_image_file in enumerate(detected_images):\n",
        "    detected_image_path = os.path.join(detected_images_path, detected_image_file)\n",
        "    detected_image = cv2.imread(detected_image_path)\n",
        "\n",
        "    label_image_path = os.path.join(label_images_path, detected_image_file.replace(\".jpg\", \".txt\"))\n",
        "    original_image_path = os.path.join(original_images_path, detected_image_file)\n",
        "\n",
        "    label_image = cv2.imread(original_image_path)\n",
        "    label_height, label_width = label_image.shape[:2]\n",
        "\n",
        "    label_coordinates = read_coordinates_from_txt(label_image_path, label_width, label_height)\n",
        "    labeled_image = np.zeros_like(detected_image)\n",
        "\n",
        "    for coordinates in label_coordinates:\n",
        "        pts = np.array(coordinates, np.int32)\n",
        "        pts = pts.reshape((-1, 1, 2))\n",
        "        cv2.fillPoly(labeled_image, [pts], color=(0, 255, 0))\n",
        "\n",
        "    # 색상 추출\n",
        "    # 붉은색 색상 추출\n",
        "    lower_red = np.array([0, 0, 150])  # 붉은색 범위의 최소 BGR 값\n",
        "    upper_red = np.array([50, 50, 255])  # 붉은색 범위의 최대 BGR 값\n",
        "    detected_red = cv2.inRange(detected_image, lower_red, upper_red)\n",
        "    detected_red_resized = cv2.resize(detected_red, (label_width, label_height))\n",
        "    detected_red_resized_3ch = cv2.merge([detected_red_resized, detected_red_resized, detected_red_resized])\n",
        "    intersection_image = cv2.bitwise_and(detected_red_resized_3ch, labeled_image)\n",
        "\n",
        "    # Calculate Union image\n",
        "    union_image = cv2.bitwise_or(detected_red_resized_3ch, labeled_image)\n",
        "\n",
        "    # IOU 계산\n",
        "    iou = calculate_ious(detected_red_resized_3ch, union_image)\n",
        "    total_iou += iou\n",
        "\n",
        "    print(f\"Image {idx + 1}/{num_images} - {detected_image_file}: IoU: {iou}\")\n",
        "\n",
        "# 전체 이미지의 평균 IOU 계산\n",
        "average_iou = total_iou / num_images\n",
        "print(f\"Average IoU: {average_iou}\")"
      ],
      "metadata": {
        "colab": {
          "base_uri": "https://localhost:8080/"
        },
        "id": "UC8I4Dn2l96Z",
        "outputId": "ecb1ee58-8f32-4d57-c7b6-bcf9000503f7"
      },
      "execution_count": null,
      "outputs": [
        {
          "output_type": "stream",
          "name": "stdout",
          "text": [
            "Image 1/100 - 2_S0425-0-S0429-12-5_png.rf.0d437fc5d87dfcba764168f5674dba7a.jpg: IoU: 0.960422079219793\n",
            "Image 2/100 - 2_S0625-0-0628-12-5_png.rf.a6e384a5a0657470f4416e714475d2f6.jpg: IoU: 0.9700394535086057\n",
            "Image 3/100 - 5_0833-0-0835-4_F_png.rf.56619245e85b2b25c6fca4a7588b8de0.jpg: IoU: 0.9393228293664097\n",
            "Image 4/100 - 5_S0950-8-0954-10_F_png.rf.d3637802cb1e5e911c4a4e7d6f459cb1.jpg: IoU: 0.9748076218395016\n",
            "Image 5/100 - 6_S0368-0-0371-12-5_F_png.rf.7e9ca1f2bd33dc9918f4108c5ad9d933.jpg: IoU: 0.9559284691367091\n",
            "Image 6/100 - 6_S0588-0-0591-12-5_F_png.rf.bcfe04b1704ffdf0407901b2f7fd31e2.jpg: IoU: 0.9938847981112541\n",
            "Image 7/100 - 7_S0368-0-0369-7_png.rf.de3a5642cd1282ed3a4f77bbda911d0f.jpg: IoU: 0.9782620091914656\n",
            "Image 8/100 - 7_S0833-0-0833-2_F_png.rf.269589c61d7bb92847cee024ebc94f24.jpg: IoU: 0.961764705882353\n",
            "Image 9/100 - F_LC_S0880-5-0884-10_png.rf.ffabc51f661e55ede8bfbdb70fcc3d8a.jpg: IoU: 0.9934624985142042\n",
            "Image 10/100 - F_LC_S0895-2-0899-10_png.rf.3ff97395e35ebf3fba592c7387273857.jpg: IoU: 0.9768370473304425\n",
            "Image 11/100 - F_LC_S0900-0-0904-10_png.rf.ba1ca204085bbe23662c91e8a91572ed.jpg: IoU: 0.9767003144133708\n",
            "Image 12/100 - F_LC_S0915-2-0919-10_png.rf.b64140e38d2930fc16b297644209d06a.jpg: IoU: 0.9748278342085299\n",
            "Image 13/100 - F_LC_S0955-2-0959-10_png.rf.98af9e43671d95d023b81c75b6743143.jpg: IoU: 0.9837783434965366\n",
            "Image 14/100 - F_LC_S0981-1-0983-10_png.rf.75b98c79efc8093afddeeaa82b398167.jpg: IoU: 0.9830142960988612\n",
            "Image 15/100 - F_LC_S1015-0-1019-10_png.rf.4243ce2b019b7962264174aa85a783c3.jpg: IoU: 0.9773269223251632\n",
            "Image 16/100 - F_LC_S1020-2-1024-10_png.rf.4f49255d94ad93a66a2f49852f830f54.jpg: IoU: 0.9563050002543364\n",
            "Image 17/100 - F_LC_S1055-0-1059-10_png.rf.23a65ce1e84217d3c0ca590cd99af545.jpg: IoU: 0.987637927431803\n",
            "Image 18/100 - F_LC_S1060-2-1064-10_png.rf.40252ae1bff3fd98ece55cd89b82295d.jpg: IoU: 0.9825329441938622\n",
            "Image 19/100 - F_LC_S1110-0-1114-10_png.rf.2e5977225fb7fa992c78108f3ddd38d5.jpg: IoU: 0.9676012300724405\n",
            "Image 20/100 - F_LC_S1160-0-1164-10_png.rf.e4dd6a1ed92fd8ef862eebfa6dd48301.jpg: IoU: 0.9824513046674017\n",
            "Image 21/100 - S0301-9-5-0305-3_png.rf.5bfe657f95ef840aa9bb10f783261795.jpg: IoU: 0.9899138402625821\n",
            "Image 22/100 - S0326-9-5-0330-3_png.rf.fd683dffe3dba455484a496e461d9430.jpg: IoU: 0.9892455006025112\n",
            "Image 23/100 - S0346-11-5-0350-3_png.rf.99aee925833d5a1f1e46bf0e913d8590.jpg: IoU: 0.9691634512935627\n",
            "Image 24/100 - S0391-9-5-0395-1_png.rf.f6e887d644c33a1a80f6749945079818.jpg: IoU: 0.9869222868880521\n",
            "Image 25/100 - S0395-9-5-0399-1_png.rf.626ff62502d36e67e45a331af6057c89.jpg: IoU: 0.9802557797372239\n",
            "Image 26/100 - S0414-9-5-0418-1_png.rf.29f178c78171b65eccbef8c20a974240.jpg: IoU: 0.9868902220416358\n",
            "Image 27/100 - S0438-9-5-0442-1_png.rf.0289c2ea604d669a878ac4b26e83f788.jpg: IoU: 0.9651169762450086\n",
            "Image 28/100 - S0447-9-5-0451-1_png.rf.686053acc9223dbbbd29c90638b7bae9.jpg: IoU: 0.923318902420033\n",
            "Image 29/100 - S0451-9-5-0455-1_png.rf.be2fb279dc6594f88c5ecdeb7a342a4e.jpg: IoU: 0.9590728231701675\n",
            "Image 30/100 - S0455-9-5-0459-1_png.rf.6facab9a856b3d6b680207d23487fa21.jpg: IoU: 0.969017517136329\n",
            "Image 31/100 - S0467-9-5-0471-1_png.rf.0838e0c59c0745ce931abde916f39d76.jpg: IoU: 0.9396146756258548\n",
            "Image 32/100 - S0481-9-5-0485-1_png.rf.aa16eaa7a1fc782da7089fb3815084c0.jpg: IoU: 0.9704122034314477\n",
            "Image 33/100 - S0490-9-5-0494-1_png.rf.90d2a4225da39d8a909bf184c3a58f97.jpg: IoU: 0.9577197149643706\n",
            "Image 34/100 - S0494-9-5-0498-1_png.rf.250c6f110139d828f6c3b1350fd6da08.jpg: IoU: 0.9568460850475649\n",
            "Image 35/100 - S0498-9-5-0502-1_png.rf.1084160434063dc2678e46c2e220f14b.jpg: IoU: 0.9674186003901577\n",
            "Image 36/100 - S0502-9-5-0506-1_png.rf.bf7fc0e9bfbfaddf68b33cbcd9d955fa.jpg: IoU: 0.960013222080875\n",
            "Image 37/100 - S0506-9-5-0510-1_png.rf.dea0009345a3f84167b2859f31ae3d9c.jpg: IoU: 0.9602183418593353\n",
            "Image 38/100 - S0514-9-5-0518-1_png.rf.e6255fc33f3bef9e9bc1b4fd2249dad6.jpg: IoU: 0.9660129492352444\n",
            "Image 39/100 - S0518-9-5-0522-1_png.rf.e8cc849821a2970ed1f84da8ee75ad0e.jpg: IoU: 0.9594863599405613\n",
            "Image 40/100 - S0522-9-5-0526-1_png.rf.294a5637697cb8057cd26a722d0fe7df.jpg: IoU: 0.9574104683195592\n",
            "Image 41/100 - S0548-9-5-0552-1_png.rf.25f77d4be85d134fd3d8a0deb6c1349b.jpg: IoU: 0.9674382975151108\n",
            "Image 42/100 - S0552-9-5-0556-1_png.rf.1b41e6a488b1fdc59ca14ea3849a5763.jpg: IoU: 0.9683955651841468\n",
            "Image 43/100 - S0556-9-5-0560-1_png.rf.d85a8057b9fa19c8a8b12ccd1d593345.jpg: IoU: 0.9815571600990959\n",
            "Image 44/100 - S0560-9-5-0564-1_png.rf.548a24077796daa355231e0214c05173.jpg: IoU: 0.9659743954480796\n",
            "Image 45/100 - S0564-9-5-0568-1_png.rf.7c66cc34b26307eebff6c0e59cf3ff23.jpg: IoU: 0.9675150361887934\n",
            "Image 46/100 - S0573-9-5-0577-1_png.rf.3299247c4bdd7a509a21dc6909d41bb8.jpg: IoU: 0.9738499792789059\n",
            "Image 47/100 - S0577-9-5-0581-1_png.rf.cd61f6e17310cb58c1dc61f0adc55361.jpg: IoU: 0.9720807742244404\n",
            "Image 48/100 - S0581-9-5-0585-1_png.rf.6dfd1ba4895fcbbc74d5e7ca08ed9e29.jpg: IoU: 0.9808100399315459\n",
            "Image 49/100 - S0589-9-5-0593-1_png.rf.bcf298f5f3a01b220afcba24127875db.jpg: IoU: 0.8499503475670308\n",
            "Image 50/100 - S0593-9-5-0597-1_png.rf.1d29114d673fd2a4e57816c88d3b1bf8.jpg: IoU: 0.9674510952706441\n",
            "Image 51/100 - S0597-9-5-0601-1_png.rf.a4d6f3c8b583b1d54e780c4d30cef3e6.jpg: IoU: 0.9635192248221833\n",
            "Image 52/100 - S0601-9-5-0605-1_png.rf.5fb2fd9c6755a62c5ca436bfb100baf6.jpg: IoU: 0.9800660547008145\n",
            "Image 53/100 - S0605-9-5-0609-1_png.rf.0f828f45b9c6a5800b6cbc7be51938ec.jpg: IoU: 0.9700898300445417\n",
            "Image 54/100 - S0613-9-5-0617-1_png.rf.0fe866ee5f0200d94552fabfb9802764.jpg: IoU: 0.9647249225396353\n",
            "Image 55/100 - S0617-9-5-0621-1_png.rf.d64f15f33e58982d1b44dd2a8f3090c2.jpg: IoU: 0.968013468013468\n",
            "Image 56/100 - S0621-9-5-0625-1_png.rf.391cf5b2b84ed62ab9217a40d2f303e4.jpg: IoU: 0.9782700399121715\n",
            "Image 57/100 - S0625-9-5-0629-1_png.rf.4c9299983fbba35ce3c56b7ce5a138bc.jpg: IoU: 0.9790526155717761\n",
            "Image 58/100 - S0629-9-5-0633-1_png.rf.f6cfc4ce5e6bce4bff857f618eec7ee4.jpg: IoU: 0.9833338614112354\n",
            "Image 59/100 - S0633-9-5-0637-1_png.rf.6aac3db65995fc262ec413674c3317c1.jpg: IoU: 0.9678703529559275\n",
            "Image 60/100 - S0637-9-5-0641-1_png.rf.316c5726c05dc7d91729d71129c2031b.jpg: IoU: 0.9726249586229725\n",
            "Image 61/100 - S0641-10-5-0645-1_png.rf.973e0ff223272d01a99e7bcd5540e275.jpg: IoU: 0.9850092081031308\n",
            "Image 62/100 - S0645-9-5-0649-1_png.rf.a90fc1f5d860f80625c307138b6de0c2.jpg: IoU: 0.979429536742252\n",
            "Image 63/100 - S0656-0-0659-2_png.rf.6b7a7826eefb492119edc782364c6dab.jpg: IoU: 0.9551043496382744\n",
            "Image 64/100 - S0659-10-0663-2_png.rf.ecb8597b97038bacd2f8aa18eb7c0069.jpg: IoU: 0.9757281553398058\n",
            "Image 65/100 - S0663-10-5-0667-2_png.rf.2e7c469c5c38633398e300f85f9efba0.jpg: IoU: 0.9785633218534753\n",
            "Image 66/100 - S0667-10-5-0671-2_png.rf.adcbc09499262bd938fb5904a083939b.jpg: IoU: 0.9745124631716784\n",
            "Image 67/100 - S0671-10-5-0675-2_png.rf.8cc75d3087b7be5d981b909e453337f9.jpg: IoU: 0.9613822903548009\n",
            "Image 68/100 - S0675-10-5-0679-1_png.rf.ae762d9f55c60a4006f024aa0931ae49.jpg: IoU: 0.9803562819102248\n",
            "Image 69/100 - S0840-9-0845-2_png.rf.0f67fb582df6918b348474de2937655c.jpg: IoU: 0.9826193471495729\n",
            "Image 70/100 - S0845-9-0850-2_png.rf.ef9f0b3acd26298333d3312ca32decda.jpg: IoU: 0.9851493461514242\n",
            "Image 71/100 - S0860-9-0865-2_png.rf.52deebc1e09d883b6b001ce96fae18dd.jpg: IoU: 0.9738268967185358\n",
            "Image 72/100 - S0865-9-0870-2_png.rf.60130cbc8221685ce96f11cd7dc22257.jpg: IoU: 0.9646458159398883\n",
            "Image 73/100 - S0871-0-0875-2_png.rf.acc2c08a27ebc8d780c9327672d29193.jpg: IoU: 0.9784450914779887\n",
            "Image 74/100 - S0875-9-0880-2_png.rf.cec9b61015ed311de3268f778d86e923.jpg: IoU: 0.963895272251762\n",
            "Image 75/100 - S0880-9-0885-2_png.rf.af987c3d44d11752d0bf80567d1a4778.jpg: IoU: 0.9756820238762229\n",
            "Image 76/100 - S0885-9-0890-2_png.rf.13a18205e11c6fd01be6ba1d909f4118.jpg: IoU: 0.9674001240990884\n",
            "Image 77/100 - S0890-9-0895-2_png.rf.e8920f250d528687de19c0bbf2106184.jpg: IoU: 0.9563303711447988\n",
            "Image 78/100 - S0895-9-0900-2_png.rf.a295d4acd50b9c8c700cf0d0abd8c2c9.jpg: IoU: 0.9815639187442697\n",
            "Image 79/100 - S0905-9-0910-2_png.rf.fa9c8e6de3fe4a8ba4335662b2969063.jpg: IoU: 0.9728129725555806\n",
            "Image 80/100 - S0910-9-0914-10_png.rf.c2ab12170e106063615ad98e4c358d99.jpg: IoU: 0.9752959211882084\n",
            "Image 81/100 - S0915-9-0920-2_png.rf.132ee678bd319f0c10f8818c26d6153e.jpg: IoU: 0.9787316105570555\n",
            "Image 82/100 - S0920-9-0925-2_png.rf.755729cbd271cfbe5990d21726ccf8e7.jpg: IoU: 0.9645337668095167\n",
            "Image 83/100 - S0925-9-0930-2_png.rf.4ec32fafc62355a770d0f5b27f0d703d.jpg: IoU: 0.9637423359321777\n",
            "Image 84/100 - S0930-9-0935-2_png.rf.4c558178daa7695173942d20b4a54c86.jpg: IoU: 0.978898821385868\n",
            "Image 85/100 - S0935-9-0940-2_png.rf.30162cca468f57d02bbe400ffe5017a5.jpg: IoU: 0.9771584555926607\n",
            "Image 86/100 - S0945-9-0950-2_png.rf.b997ec2948016e1a7b7c06d45e552590.jpg: IoU: 0.9570359566237555\n",
            "Image 87/100 - S0950-9-0955-2_png.rf.0e3e949c910ac11de0182c149b36612f.jpg: IoU: 0.9661969370523497\n",
            "Image 88/100 - S0955-9-0960-2_png.rf.452ad1f600c56694348c96a368c4a216.jpg: IoU: 0.9794746857943495\n",
            "Image 89/100 - S0965-9-0970-2_png.rf.905793ca50f3069fc9d62664dca7ab38.jpg: IoU: 0.9795886730053741\n",
            "Image 90/100 - S0970-9-0975-2_png.rf.a8befdc686da713ffbcc8870fd982e33.jpg: IoU: 0.970597409799323\n",
            "Image 91/100 - S0975-9-0980-2_png.rf.64f80612c2bfb66da4ca2a7794b404fa.jpg: IoU: 0.9829683462844867\n",
            "Image 92/100 - S0980-9-0985-2_png.rf.f5dece8d0a9f336f2c1acb772aadeaaf.jpg: IoU: 0.968878767014459\n",
            "Image 93/100 - S1040-9-1045-2_png.rf.b4f113a9b287d90256e5f85a52dcf7d4.jpg: IoU: 0.9776316296267765\n",
            "Image 94/100 - S1045-9-1050-2_png.rf.87fceed4356c56f9a983e7beb54330a1.jpg: IoU: 0.985905065907758\n",
            "Image 95/100 - S1055-9-1060-2_png.rf.27dc4920187e4545735fb01882fb23f7.jpg: IoU: 0.9584859098869607\n",
            "Image 96/100 - S1075-9-1080-2_png.rf.9af099d53a943c4fe5b0eafd51aefcfc.jpg: IoU: 0.9782020444978954\n",
            "Image 97/100 - S1095-9-1100-2_png.rf.e280a09f7c4e07dc807350bb13e9df30.jpg: IoU: 0.9825774336283186\n",
            "Image 98/100 - S1100-9-1105-2_png.rf.a2f97887f6df6614e75b26f8230dd58d.jpg: IoU: 0.9827633378932968\n",
            "Image 99/100 - S1115-9-1120-2_png.rf.140448a9a9fd9f85133c2ff1c4899565.jpg: IoU: 0.9808808936659363\n",
            "Image 100/100 - S1125-9-1130-2_png.rf.af41f5e7beb7ab40067507d71c919838.jpg: IoU: 0.9785844376059788\n",
            "Average IoU: 0.9707415479623295\n"
          ]
        }
      ]
    }
  ]
}